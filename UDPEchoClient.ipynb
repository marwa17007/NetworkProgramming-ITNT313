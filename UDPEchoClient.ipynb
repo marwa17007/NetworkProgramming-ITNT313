{
 "cells": [
  {
   "cell_type": "code",
   "execution_count": 8,
   "metadata": {},
   "outputs": [
    {
     "name": "stdout",
     "output_type": "stream",
     "text": [
      "sending \"This is the message.\"\n",
      "waiting to receive ...\n",
      "received \"b'This is the message.'\"\n",
      "closing socket\n"
     ]
    }
   ],
   "source": [
    "from socket import * \n",
    "\n",
    "# Create a UDP socket\n",
    "s = socket(AF_INET, SOCK_DGRAM)\n",
    "\n",
    "server_addr = ('localhost', 10000) \n",
    "message = 'This is the message.'\n",
    "\n",
    "try:\n",
    "\n",
    "    # Send data\n",
    "    print('sending \"%s\"' % message)\n",
    "    sent = s.sendto(message.encode(), server_addr)\n",
    "    # Receive response \n",
    "    print('waiting to receive ...') \n",
    "    data, server = s.recvfrom(4096) \n",
    "    print('received \"%s\"' % data)\n",
    "finally:\n",
    "    print('closing socket') \n",
    "    s.close()"
   ]
  }
 ],
 "metadata": {
  "kernelspec": {
   "display_name": "Python 3",
   "language": "python",
   "name": "python3"
  },
  "language_info": {
   "codemirror_mode": {
    "name": "ipython",
    "version": 3
   },
   "file_extension": ".py",
   "mimetype": "text/x-python",
   "name": "python",
   "nbconvert_exporter": "python",
   "pygments_lexer": "ipython3",
   "version": "3.11.3"
  },
  "orig_nbformat": 4
 },
 "nbformat": 4,
 "nbformat_minor": 2
}
