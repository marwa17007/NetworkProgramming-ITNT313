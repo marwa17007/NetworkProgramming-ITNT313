{
 "cells": [
  {
   "cell_type": "code",
   "execution_count": 1,
   "metadata": {},
   "outputs": [
    {
     "name": "stdout",
     "output_type": "stream",
     "text": [
      "socket binded to port 12345\n",
      "socket is listening\n",
      "Connected to : 127.0.0.1 : 59539\n",
      "Bye\n"
     ]
    },
    {
     "ename": "OSError",
     "evalue": "[Errno 9] Bad file descriptor",
     "output_type": "error",
     "traceback": [
      "\u001b[0;31m---------------------------------------------------------------------------\u001b[0m",
      "\u001b[0;31mOSError\u001b[0m                                   Traceback (most recent call last)",
      "Cell \u001b[0;32mIn[1], line 42\u001b[0m\n\u001b[1;32m     39\u001b[0m         s\u001b[39m.\u001b[39mclose()\n\u001b[1;32m     41\u001b[0m \u001b[39mif\u001b[39;00m \u001b[39m__name__\u001b[39m \u001b[39m==\u001b[39m \u001b[39m'\u001b[39m\u001b[39m__main__\u001b[39m\u001b[39m'\u001b[39m:\n\u001b[0;32m---> 42\u001b[0m     Main()\n",
      "Cell \u001b[0;32mIn[1], line 30\u001b[0m, in \u001b[0;36mMain\u001b[0;34m()\u001b[0m\n\u001b[1;32m     27\u001b[0m \u001b[39m# a forever loop until client wants to exit\u001b[39;00m\n\u001b[1;32m     28\u001b[0m \u001b[39mwhile\u001b[39;00m \u001b[39mTrue\u001b[39;00m:\n\u001b[1;32m     29\u001b[0m     \u001b[39m# establish connection with client\u001b[39;00m\n\u001b[0;32m---> 30\u001b[0m     c, addr \u001b[39m=\u001b[39m s\u001b[39m.\u001b[39;49maccept()\n\u001b[1;32m     31\u001b[0m     \u001b[39m# lock acquired by client\u001b[39;00m\n\u001b[1;32m     32\u001b[0m     print_lock\u001b[39m.\u001b[39macquire()\n",
      "File \u001b[0;32m/Library/Frameworks/Python.framework/Versions/3.11/lib/python3.11/socket.py:294\u001b[0m, in \u001b[0;36msocket.accept\u001b[0;34m(self)\u001b[0m\n\u001b[1;32m    287\u001b[0m \u001b[39mdef\u001b[39;00m \u001b[39maccept\u001b[39m(\u001b[39mself\u001b[39m):\n\u001b[1;32m    288\u001b[0m \u001b[39m    \u001b[39m\u001b[39m\"\"\"accept() -> (socket object, address info)\u001b[39;00m\n\u001b[1;32m    289\u001b[0m \n\u001b[1;32m    290\u001b[0m \u001b[39m    Wait for an incoming connection.  Return a new socket\u001b[39;00m\n\u001b[1;32m    291\u001b[0m \u001b[39m    representing the connection, and the address of the client.\u001b[39;00m\n\u001b[1;32m    292\u001b[0m \u001b[39m    For IP sockets, the address info is a pair (hostaddr, port).\u001b[39;00m\n\u001b[1;32m    293\u001b[0m \u001b[39m    \"\"\"\u001b[39;00m\n\u001b[0;32m--> 294\u001b[0m     fd, addr \u001b[39m=\u001b[39m \u001b[39mself\u001b[39;49m\u001b[39m.\u001b[39;49m_accept()\n\u001b[1;32m    295\u001b[0m     sock \u001b[39m=\u001b[39m socket(\u001b[39mself\u001b[39m\u001b[39m.\u001b[39mfamily, \u001b[39mself\u001b[39m\u001b[39m.\u001b[39mtype, \u001b[39mself\u001b[39m\u001b[39m.\u001b[39mproto, fileno\u001b[39m=\u001b[39mfd)\n\u001b[1;32m    296\u001b[0m     \u001b[39m# Issue #7995: if no default timeout is set and the listening\u001b[39;00m\n\u001b[1;32m    297\u001b[0m     \u001b[39m# socket had a (non-zero) timeout, force the new socket in blocking\u001b[39;00m\n\u001b[1;32m    298\u001b[0m     \u001b[39m# mode to override platform-specific socket flags inheritance.\u001b[39;00m\n",
      "\u001b[0;31mOSError\u001b[0m: [Errno 9] Bad file descriptor"
     ]
    }
   ],
   "source": [
    "import socket\n",
    "import threading\n",
    "print_lock = threading.Lock() # global lock\n",
    "def threaded(c): # thread func with client socket argument c\n",
    "    while True:\n",
    "    # data received from client\n",
    "        data = c.recv(1024)\n",
    "        if not data:\n",
    "            print('Bye')\n",
    "            print_lock.release() # release lock on exit\n",
    "            break\n",
    "        # reverse and send back the string from client\n",
    "        data = data[::-1]\n",
    "        c.send(data)\n",
    "    c.close() # close connection\n",
    "\n",
    "def Main():\n",
    "    host = \"\"\n",
    "    port = 12345\n",
    "    s = socket.socket(socket.AF_INET, socket.SOCK_STREAM)\n",
    "    s.bind((host, port))\n",
    "    print(\"socket binded to port\", port)\n",
    "    # put the socket into listening mode\n",
    "    s.listen(5)\n",
    "    print(\"socket is listening\")\n",
    "\n",
    "    # a forever loop until client wants to exit\n",
    "    while True:\n",
    "        # establish connection with client\n",
    "        c, addr = s.accept()\n",
    "        # lock acquired by client\n",
    "        print_lock.acquire()\n",
    "        print('Connected to :', addr[0], ':', addr[1])\n",
    "        # Start a new thread and return its identifier\n",
    "        t = threading.Thread(target=threaded, args=(c,))\n",
    "        t.start()\n",
    "        # Go back to accept the next request immediately\n",
    "\n",
    "        s.close()\n",
    "\n",
    "if __name__ == '__main__':\n",
    "    Main()"
   ]
  }
 ],
 "metadata": {
  "kernelspec": {
   "display_name": "Python 3",
   "language": "python",
   "name": "python3"
  },
  "language_info": {
   "codemirror_mode": {
    "name": "ipython",
    "version": 3
   },
   "file_extension": ".py",
   "mimetype": "text/x-python",
   "name": "python",
   "nbconvert_exporter": "python",
   "pygments_lexer": "ipython3",
   "version": "3.11.3"
  },
  "orig_nbformat": 4
 },
 "nbformat": 4,
 "nbformat_minor": 2
}
