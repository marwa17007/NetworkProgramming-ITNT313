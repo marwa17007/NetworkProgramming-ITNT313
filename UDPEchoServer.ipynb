{
 "cells": [
  {
   "cell_type": "code",
   "execution_count": null,
   "metadata": {},
   "outputs": [],
   "source": [
    "from socket import *\n",
    "\n",
    "# Create a UDP socket\n",
    "s = socket(AF_INET, SOCK_DGRAM)\n",
    "\n",
    "server_addr = ('localhost', 10000)\n",
    "print('starting up on ', server_addr)\n",
    "\n",
    "# Bind the socket to the port server_addr \n",
    "s.bind(server_addr)\n",
    "\n",
    "while True:\n",
    "    print(\"Waiting to receive message\") \n",
    "    data, addr = s.recvfrom(4096)\n",
    "    if data:\n",
    "        sent = s.sendto(data, addr)"
   ]
  }
 ],
 "metadata": {
  "language_info": {
   "name": "python"
  },
  "orig_nbformat": 4
 },
 "nbformat": 4,
 "nbformat_minor": 2
}
