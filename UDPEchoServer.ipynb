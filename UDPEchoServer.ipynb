{
 "cells": [
  {
   "cell_type": "code",
   "execution_count": 6,
   "metadata": {},
   "outputs": [
    {
     "name": "stdout",
     "output_type": "stream",
     "text": [
      "starting up on  ('localhost', 10000)\n",
      "Waiting to receive message\n",
      "Done sending the message for the client!\n",
      "Waiting to receive message\n"
     ]
    },
    {
     "ename": "KeyboardInterrupt",
     "evalue": "",
     "output_type": "error",
     "traceback": [
      "\u001b[0;31m---------------------------------------------------------------------------\u001b[0m",
      "\u001b[0;31mKeyboardInterrupt\u001b[0m                         Traceback (most recent call last)",
      "Cell \u001b[0;32mIn[6], line 14\u001b[0m\n\u001b[1;32m     12\u001b[0m \u001b[39mwhile\u001b[39;00m \u001b[39mTrue\u001b[39;00m:\n\u001b[1;32m     13\u001b[0m     \u001b[39mprint\u001b[39m(\u001b[39m\"\u001b[39m\u001b[39mWaiting to receive message\u001b[39m\u001b[39m\"\u001b[39m) \n\u001b[0;32m---> 14\u001b[0m     data, addr \u001b[39m=\u001b[39m s\u001b[39m.\u001b[39;49mrecvfrom(\u001b[39m4096\u001b[39;49m)\n\u001b[1;32m     15\u001b[0m     \u001b[39mif\u001b[39;00m data:\n\u001b[1;32m     16\u001b[0m         sent \u001b[39m=\u001b[39m s\u001b[39m.\u001b[39msendto(data, addr)\n",
      "\u001b[0;31mKeyboardInterrupt\u001b[0m: "
     ]
    }
   ],
   "source": [
    "from socket import *\n",
    "\n",
    "# Create a UDP socket\n",
    "s = socket(AF_INET, SOCK_DGRAM)\n",
    "\n",
    "server_addr = ('localhost', 10000)\n",
    "print('starting up on ', server_addr)\n",
    "\n",
    "# Bind the socket to the port server_addr \n",
    "s.bind(server_addr)\n",
    "\n",
    "while True:\n",
    "    print(\"Waiting to receive message\") \n",
    "    data, addr = s.recvfrom(4096)\n",
    "    if data:\n",
    "        sent = s.sendto(data, addr)\n",
    "        print(\"Done sending the message for the client!\")"
   ]
  }
 ],
 "metadata": {
  "kernelspec": {
   "display_name": "Python 3",
   "language": "python",
   "name": "python3"
  },
  "language_info": {
   "codemirror_mode": {
    "name": "ipython",
    "version": 3
   },
   "file_extension": ".py",
   "mimetype": "text/x-python",
   "name": "python",
   "nbconvert_exporter": "python",
   "pygments_lexer": "ipython3",
   "version": "3.11.3"
  },
  "orig_nbformat": 4
 },
 "nbformat": 4,
 "nbformat_minor": 2
}
