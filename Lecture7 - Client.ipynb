{
 "cells": [
  {
   "cell_type": "code",
   "execution_count": 2,
   "metadata": {},
   "outputs": [
    {
     "name": "stdout",
     "output_type": "stream",
     "text": [
      "Send message: testing multithreaded server\n",
      "\n",
      "Received : revres dedaerhtitlum gnitset\n"
     ]
    }
   ],
   "source": [
    "import socket\n",
    "\n",
    "def Main():\n",
    "    # local host IP '127.0.0.1'\n",
    "    host = '127.0.0.1'\n",
    "    # Define the port on which you want to connect\n",
    "    port = 12345\n",
    "    s = socket.socket(socket.AF_INET,socket.SOCK_STREAM)\n",
    "    # connect to server on local computer\n",
    "    s.connect((host,port))\n",
    "\n",
    "    # message you send to server\n",
    "    message = 'testing multithreaded server'\n",
    "    print('Send message: %s\\n' % message)\n",
    "    s.send(message.encode('ascii'))\n",
    "    # messaga received from server\n",
    "    data = s.recv(1024)\n",
    "    # print the received (reversed) message\n",
    "    print('Received :', str(data.decode('ascii')))\n",
    "    # close the connection\n",
    "    s.close()\n",
    "if __name__ == '__main__':\n",
    "    Main()"
   ]
  }
 ],
 "metadata": {
  "kernelspec": {
   "display_name": "Python 3",
   "language": "python",
   "name": "python3"
  },
  "language_info": {
   "codemirror_mode": {
    "name": "ipython",
    "version": 3
   },
   "file_extension": ".py",
   "mimetype": "text/x-python",
   "name": "python",
   "nbconvert_exporter": "python",
   "pygments_lexer": "ipython3",
   "version": "3.11.3"
  },
  "orig_nbformat": 4
 },
 "nbformat": 4,
 "nbformat_minor": 2
}
