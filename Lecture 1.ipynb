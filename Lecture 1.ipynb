{
 "cells": [
  {
   "cell_type": "code",
   "execution_count": null,
   "metadata": {},
   "outputs": [],
   "source": [
    "print(\"welcome to network programmong\")"
   ]
  },
  {
   "cell_type": "code",
   "execution_count": null,
   "metadata": {},
   "outputs": [],
   "source": [
    "number = 10\n",
    "number2 = 20\n",
    "\n",
    "print(number + number2)"
   ]
  },
  {
   "cell_type": "code",
   "execution_count": null,
   "metadata": {},
   "outputs": [],
   "source": [
    "name = \"aseel\"\n",
    "\n",
    "print (\"my name is \" + name)"
   ]
  },
  {
   "cell_type": "code",
   "execution_count": null,
   "metadata": {},
   "outputs": [],
   "source": [
    "number3 = 30.50\n",
    "print(number3)\n",
    "print(int(number3))"
   ]
  },
  {
   "cell_type": "code",
   "execution_count": null,
   "metadata": {},
   "outputs": [],
   "source": [
    "list1 = [2,4,6,8]\n",
    "print(2 * list1)"
   ]
  },
  {
   "cell_type": "code",
   "execution_count": null,
   "metadata": {},
   "outputs": [],
   "source": [
    "number = 15\n",
    "if number % 2 == 0:\n",
    "    print(\"The number is even\")\n",
    "else:\n",
    "    print(\"The number is odd\")\n"
   ]
  },
  {
   "cell_type": "code",
   "execution_count": null,
   "metadata": {},
   "outputs": [],
   "source": [
    "i = 1\n",
    "while i <= 10 :\n",
    "    print(i)\n",
    "    i = i + 1"
   ]
  },
  {
   "cell_type": "code",
   "execution_count": null,
   "metadata": {},
   "outputs": [],
   "source": [
    " #Print the numbers from 1 to 10\n",
    "for i in range(2, 11):\n",
    "    print(i + 2)\n"
   ]
  },
  {
   "cell_type": "code",
   "execution_count": null,
   "metadata": {},
   "outputs": [],
   "source": [
    "def greet():\n",
    "    print(\"Hello, world!\")\n",
    "\n",
    "greet()"
   ]
  },
  {
   "cell_type": "code",
   "execution_count": null,
   "metadata": {},
   "outputs": [],
   "source": [
    "def greet(name):\n",
    "#This function greets the user by name.\n",
    "    print(\"Hello,\" + name + \"!\")\n",
    "\n",
    "greet(\"omar\")"
   ]
  },
  {
   "cell_type": "code",
   "execution_count": null,
   "metadata": {},
   "outputs": [],
   "source": [
    "import pyshark\n",
    "# Capture packets\n",
    "capture = pyshark.capture()\n",
    "# Print the first 10 packets\n",
    "for packet in capture.take(10):\n",
    "    print(packet)\n",
    "# Close the capture\n",
    "capture.close() "
   ]
  },
  {
   "cell_type": "code",
   "execution_count": null,
   "metadata": {},
   "outputs": [],
   "source": [
    "pip install pyshark"
   ]
  },
  {
   "cell_type": "code",
   "execution_count": null,
   "metadata": {},
   "outputs": [],
   "source": [
    "import pyshark\n",
    "# Capture packets\n",
    "capture = pyshark.capture()\n",
    "# Print the first 10 packets\n",
    "for packet in capture.take(10):\n",
    "    print(packet)\n",
    "# Close the capture\n",
    "capture.close()"
   ]
  },
  {
   "cell_type": "code",
   "execution_count": null,
   "metadata": {},
   "outputs": [],
   "source": [
    "class Car:\n",
    "    def __init__(self, make, model, year,color):\n",
    "        self.make = make\n",
    "        self.model = model\n",
    "        self.year = year\n",
    "        self.color = color\n",
    "    def drive(self):\n",
    "        print(\"The car is driving.\")\n",
    "    def stop(self):\n",
    "        print(\"The car is stopping.\")\n",
    "\n",
    "omar_car = Car(\"korea\", \"mazda\", 2004, \"red\")\n",
    "ahmed_car = Car(\"japan\", \"Toyota\", 2022, \"black\")\n",
    "print(omar_car.model)\n",
    "print(omar_car.color)\n",
    "\n",
    "print(ahmed_car.make)\n",
    "\n",
    "Car.stop(ahmed_car)"
   ]
  },
  {
   "cell_type": "code",
   "execution_count": null,
   "metadata": {},
   "outputs": [],
   "source": [
    "pip install socket"
   ]
  },
  {
   "cell_type": "code",
   "execution_count": 1,
   "metadata": {},
   "outputs": [],
   "source": [
    "\n",
    "import socket\n",
    "\n",
    "# Create a socket object\n",
    "sock = socket.socket(socket.AF_INET, socket.SOCK_STREAM)\n",
    "\n",
    "# Bind the socket to a port\n",
    "sock.bind((\"127.0.0.1\", 8080))\n",
    "\n",
    "# Listen for connections\n",
    "sock.listen(1)\n",
    "\n",
    "# Accept a connection\n",
    "conn, addr = sock.accept()\n",
    "\n",
    "# Send data to the client\n",
    "conn.send(\"Hello, world!\")\n",
    "\n",
    "# Close the connection\n",
    "conn.close()\n"
   ]
  }
 ],
 "metadata": {
  "kernelspec": {
   "display_name": "Python 3",
   "language": "python",
   "name": "python3"
  },
  "language_info": {
   "codemirror_mode": {
    "name": "ipython",
    "version": 3
   },
   "file_extension": ".py",
   "mimetype": "text/x-python",
   "name": "python",
   "nbconvert_exporter": "python",
   "pygments_lexer": "ipython3",
   "version": "3.11.3"
  },
  "orig_nbformat": 4
 },
 "nbformat": 4,
 "nbformat_minor": 2
}
